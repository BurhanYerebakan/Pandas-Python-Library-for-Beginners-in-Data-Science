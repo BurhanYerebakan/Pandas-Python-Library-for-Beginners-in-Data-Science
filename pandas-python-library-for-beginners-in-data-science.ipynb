{
  "nbformat": 4,
  "nbformat_minor": 0,
  "metadata": {
    "colab": {
      "name": "Pandas Python Library for Beginners in Data Science",
      "provenance": [],
      "collapsed_sections": [],
      "authorship_tag": "ABX9TyMtZJZdE4/uFcmFUBxAftud",
      "include_colab_link": true
    },
    "kernelspec": {
      "name": "python3",
      "display_name": "Python 3"
    }
  },
  "cells": [
    {
      "cell_type": "markdown",
      "metadata": {
        "id": "view-in-github",
        "colab_type": "text"
      },
      "source": [
        "<a href=\"https://colab.research.google.com/gist/BurhanYerebakan/5fefa2cd38ef3ed604f1fb625c525e27/pandas-python-library-for-beginners-in-data-science.ipynb\" target=\"_parent\"><img src=\"https://colab.research.google.com/assets/colab-badge.svg\" alt=\"Open In Colab\"/></a>"
      ]
    },
    {
      "cell_type": "code",
      "metadata": {
        "id": "k4svNuRmoAY3"
      },
      "source": [
        "# IMPORT LIBRARIES\n",
        "\n",
        "import numpy as np\n",
        "import pandas as pd "
      ],
      "execution_count": null,
      "outputs": []
    },
    {
      "cell_type": "code",
      "metadata": {
        "colab": {
          "base_uri": "https://localhost:8080/"
        },
        "id": "_ko9rJz5sx7B",
        "outputId": "4e9eecc2-f523-4f4d-c68f-a6ecf375ceb2"
      },
      "source": [
        "# CREATING SERIES \n",
        "\n",
        "# Method 1: Using an Array \n",
        "\n",
        "s = ([1, np.nan, ' Pandas Library '])\n",
        "s1 = pd.Series(s)\n",
        "s1"
      ],
      "execution_count": null,
      "outputs": [
        {
          "output_type": "execute_result",
          "data": {
            "text/plain": [
              "0                   1\n",
              "1                 NaN\n",
              "2     Pandas Library \n",
              "dtype: object"
            ]
          },
          "metadata": {
            "tags": []
          },
          "execution_count": 2
        }
      ]
    },
    {
      "cell_type": "code",
      "metadata": {
        "colab": {
          "base_uri": "https://localhost:8080/"
        },
        "id": "moC8Ioq1t5TB",
        "outputId": "63e6f244-9c20-4242-f04b-7ad2b9208c23"
      },
      "source": [
        "# Create a Pandas Series, named s2.\n",
        "# Use the array, named s2, containing the following: \n",
        "# •\tInteger = 2\n",
        "# •\tNan value\n",
        "# •\tCharacter = b\n",
        "\n",
        "s2 = np.array([2, np.nan, 'b'])\n",
        "s2 = pd.Series(s2)\n",
        "s2\n",
        "\n"
      ],
      "execution_count": null,
      "outputs": [
        {
          "output_type": "execute_result",
          "data": {
            "text/plain": [
              "0      2\n",
              "1    nan\n",
              "2      b\n",
              "dtype: object"
            ]
          },
          "metadata": {
            "tags": []
          },
          "execution_count": 4
        }
      ]
    },
    {
      "cell_type": "code",
      "metadata": {
        "colab": {
          "base_uri": "https://localhost:8080/"
        },
        "id": "kP6B1hfLvXzN",
        "outputId": "744ec9eb-7210-437b-d38a-f3c34163fef9"
      },
      "source": [
        "# Method 2: Using a List\n",
        "list1 = ['animal', '2', 'animal']\n",
        "s3 = pd.Series(list1)\n",
        "s3"
      ],
      "execution_count": null,
      "outputs": [
        {
          "output_type": "execute_result",
          "data": {
            "text/plain": [
              "0    animal\n",
              "1         2\n",
              "2    animal\n",
              "dtype: object"
            ]
          },
          "metadata": {
            "tags": []
          },
          "execution_count": 6
        }
      ]
    },
    {
      "cell_type": "code",
      "metadata": {
        "colab": {
          "base_uri": "https://localhost:8080/"
        },
        "id": "KGwU5eGUwJOe",
        "outputId": "5d77f807-f3e8-433f-95f7-36ecb5dc7bf4"
      },
      "source": [
        "# Create a Pandas Series, named s4.\n",
        "# Use a list, named list2, containing the following: \n",
        "# •\tInteger = 3\n",
        "# •\tCharacter = c\n",
        "# •\tString = Numpy\n",
        "# Note: 'N' Must be capital\n",
        "\n",
        "list2 = ['3', 'c', 'Numpy']\n",
        "s4 = pd.Series(list2)\n",
        "s4"
      ],
      "execution_count": null,
      "outputs": [
        {
          "output_type": "execute_result",
          "data": {
            "text/plain": [
              "0        3\n",
              "1        c\n",
              "2    Numpy\n",
              "dtype: object"
            ]
          },
          "metadata": {
            "tags": []
          },
          "execution_count": 8
        }
      ]
    },
    {
      "cell_type": "code",
      "metadata": {
        "colab": {
          "base_uri": "https://localhost:8080/"
        },
        "id": "tco9Yvm5xvhN",
        "outputId": "2f200a5c-d647-4b3c-eee6-5065a6cf079b"
      },
      "source": [
        "# Method 3: Using a Dictionary\n",
        "\n",
        "s5 = pd.Series(\n",
        "    \n",
        "{'A': 1,\n",
        " '3': 'Python',\n",
        " })\n",
        "s5"
      ],
      "execution_count": null,
      "outputs": [
        {
          "output_type": "execute_result",
          "data": {
            "text/plain": [
              "A         1\n",
              "3    Python\n",
              "dtype: object"
            ]
          },
          "metadata": {
            "tags": []
          },
          "execution_count": 9
        }
      ]
    },
    {
      "cell_type": "code",
      "metadata": {
        "colab": {
          "base_uri": "https://localhost:8080/"
        },
        "id": "fGXLu9TFz8Kq",
        "outputId": "15fbbf72-a788-4fdf-9aed-86e2be25678c"
      },
      "source": [
        "# Create a Pandas Series, named s6, containing the following: \n",
        "# •\t'Integer' = 3\n",
        "# •\t'B' = Boys\n",
        "s6 = pd.Series({'Integer': 3, 'B': 'Boys'})\n",
        "s6"
      ],
      "execution_count": null,
      "outputs": [
        {
          "output_type": "execute_result",
          "data": {
            "text/plain": [
              "Integer       3\n",
              "B          Boys\n",
              "dtype: object"
            ]
          },
          "metadata": {
            "tags": []
          },
          "execution_count": 11
        }
      ]
    },
    {
      "cell_type": "code",
      "metadata": {
        "colab": {
          "base_uri": "https://localhost:8080/",
          "height": 235
        },
        "id": "fWUV4_gw0hNk",
        "outputId": "0ad979d3-3373-41cb-8d3f-f01bce82be71"
      },
      "source": [
        "# CREATING DATA FRAMES\n",
        "\n",
        "# Method 1: Passing a Numpy Array\n",
        "\n",
        "df = pd.DataFrame(np.random.randn(6,4))\n",
        "df"
      ],
      "execution_count": null,
      "outputs": [
        {
          "output_type": "execute_result",
          "data": {
            "text/html": [
              "<div>\n",
              "<style scoped>\n",
              "    .dataframe tbody tr th:only-of-type {\n",
              "        vertical-align: middle;\n",
              "    }\n",
              "\n",
              "    .dataframe tbody tr th {\n",
              "        vertical-align: top;\n",
              "    }\n",
              "\n",
              "    .dataframe thead th {\n",
              "        text-align: right;\n",
              "    }\n",
              "</style>\n",
              "<table border=\"1\" class=\"dataframe\">\n",
              "  <thead>\n",
              "    <tr style=\"text-align: right;\">\n",
              "      <th></th>\n",
              "      <th>0</th>\n",
              "      <th>1</th>\n",
              "      <th>2</th>\n",
              "      <th>3</th>\n",
              "    </tr>\n",
              "  </thead>\n",
              "  <tbody>\n",
              "    <tr>\n",
              "      <th>0</th>\n",
              "      <td>-0.447076</td>\n",
              "      <td>-1.572481</td>\n",
              "      <td>1.526240</td>\n",
              "      <td>-1.092132</td>\n",
              "    </tr>\n",
              "    <tr>\n",
              "      <th>1</th>\n",
              "      <td>0.069642</td>\n",
              "      <td>0.905363</td>\n",
              "      <td>-0.599072</td>\n",
              "      <td>0.732349</td>\n",
              "    </tr>\n",
              "    <tr>\n",
              "      <th>2</th>\n",
              "      <td>0.114220</td>\n",
              "      <td>0.857244</td>\n",
              "      <td>0.503279</td>\n",
              "      <td>0.096256</td>\n",
              "    </tr>\n",
              "    <tr>\n",
              "      <th>3</th>\n",
              "      <td>-1.233715</td>\n",
              "      <td>1.652943</td>\n",
              "      <td>-1.651242</td>\n",
              "      <td>0.553883</td>\n",
              "    </tr>\n",
              "    <tr>\n",
              "      <th>4</th>\n",
              "      <td>-0.394832</td>\n",
              "      <td>0.366075</td>\n",
              "      <td>-1.387644</td>\n",
              "      <td>-2.415996</td>\n",
              "    </tr>\n",
              "    <tr>\n",
              "      <th>5</th>\n",
              "      <td>-0.658390</td>\n",
              "      <td>1.887574</td>\n",
              "      <td>1.587769</td>\n",
              "      <td>-0.907939</td>\n",
              "    </tr>\n",
              "  </tbody>\n",
              "</table>\n",
              "</div>"
            ],
            "text/plain": [
              "          0         1         2         3\n",
              "0 -0.447076 -1.572481  1.526240 -1.092132\n",
              "1  0.069642  0.905363 -0.599072  0.732349\n",
              "2  0.114220  0.857244  0.503279  0.096256\n",
              "3 -1.233715  1.652943 -1.651242  0.553883\n",
              "4 -0.394832  0.366075 -1.387644 -2.415996\n",
              "5 -0.658390  1.887574  1.587769 -0.907939"
            ]
          },
          "metadata": {
            "tags": []
          },
          "execution_count": 12
        }
      ]
    },
    {
      "cell_type": "code",
      "metadata": {
        "colab": {
          "base_uri": "https://localhost:8080/",
          "height": 142
        },
        "id": "JeEG5zEt_Gid",
        "outputId": "52375643-3f24-48d1-ec6b-3c8787418abf"
      },
      "source": [
        "# Creat a data frame, named df1, which contains: \n",
        "# •\tA randomly generated array with the dimensions 3x3\n",
        "\n",
        "df1 = pd.DataFrame(np.random.randn(3,3))\n",
        "df1"
      ],
      "execution_count": null,
      "outputs": [
        {
          "output_type": "execute_result",
          "data": {
            "text/html": [
              "<div>\n",
              "<style scoped>\n",
              "    .dataframe tbody tr th:only-of-type {\n",
              "        vertical-align: middle;\n",
              "    }\n",
              "\n",
              "    .dataframe tbody tr th {\n",
              "        vertical-align: top;\n",
              "    }\n",
              "\n",
              "    .dataframe thead th {\n",
              "        text-align: right;\n",
              "    }\n",
              "</style>\n",
              "<table border=\"1\" class=\"dataframe\">\n",
              "  <thead>\n",
              "    <tr style=\"text-align: right;\">\n",
              "      <th></th>\n",
              "      <th>0</th>\n",
              "      <th>1</th>\n",
              "      <th>2</th>\n",
              "    </tr>\n",
              "  </thead>\n",
              "  <tbody>\n",
              "    <tr>\n",
              "      <th>0</th>\n",
              "      <td>1.909885</td>\n",
              "      <td>-2.368226</td>\n",
              "      <td>0.437556</td>\n",
              "    </tr>\n",
              "    <tr>\n",
              "      <th>1</th>\n",
              "      <td>-2.633105</td>\n",
              "      <td>-0.382292</td>\n",
              "      <td>1.621620</td>\n",
              "    </tr>\n",
              "    <tr>\n",
              "      <th>2</th>\n",
              "      <td>-1.607050</td>\n",
              "      <td>-0.357042</td>\n",
              "      <td>1.197037</td>\n",
              "    </tr>\n",
              "  </tbody>\n",
              "</table>\n",
              "</div>"
            ],
            "text/plain": [
              "          0         1         2\n",
              "0  1.909885 -2.368226  0.437556\n",
              "1 -2.633105 -0.382292  1.621620\n",
              "2 -1.607050 -0.357042  1.197037"
            ]
          },
          "metadata": {
            "tags": []
          },
          "execution_count": 14
        }
      ]
    },
    {
      "cell_type": "code",
      "metadata": {
        "colab": {
          "base_uri": "https://localhost:8080/",
          "height": 142
        },
        "id": "SVtSFnUe_9nB",
        "outputId": "215f12bc-d318-42c4-fb75-71bf28d15956"
      },
      "source": [
        "# Method 2: Passing a Dictionary of Objects \n",
        "\n",
        "df2 = pd.DataFrame({'A':1, 'number': np.array([6]*3, dtype='int32'),})\n",
        "df2"
      ],
      "execution_count": null,
      "outputs": [
        {
          "output_type": "execute_result",
          "data": {
            "text/html": [
              "<div>\n",
              "<style scoped>\n",
              "    .dataframe tbody tr th:only-of-type {\n",
              "        vertical-align: middle;\n",
              "    }\n",
              "\n",
              "    .dataframe tbody tr th {\n",
              "        vertical-align: top;\n",
              "    }\n",
              "\n",
              "    .dataframe thead th {\n",
              "        text-align: right;\n",
              "    }\n",
              "</style>\n",
              "<table border=\"1\" class=\"dataframe\">\n",
              "  <thead>\n",
              "    <tr style=\"text-align: right;\">\n",
              "      <th></th>\n",
              "      <th>A</th>\n",
              "      <th>number</th>\n",
              "    </tr>\n",
              "  </thead>\n",
              "  <tbody>\n",
              "    <tr>\n",
              "      <th>0</th>\n",
              "      <td>1</td>\n",
              "      <td>6</td>\n",
              "    </tr>\n",
              "    <tr>\n",
              "      <th>1</th>\n",
              "      <td>1</td>\n",
              "      <td>6</td>\n",
              "    </tr>\n",
              "    <tr>\n",
              "      <th>2</th>\n",
              "      <td>1</td>\n",
              "      <td>6</td>\n",
              "    </tr>\n",
              "  </tbody>\n",
              "</table>\n",
              "</div>"
            ],
            "text/plain": [
              "   A  number\n",
              "0  1       6\n",
              "1  1       6\n",
              "2  1       6"
            ]
          },
          "metadata": {
            "tags": []
          },
          "execution_count": 15
        }
      ]
    },
    {
      "cell_type": "code",
      "metadata": {
        "colab": {
          "base_uri": "https://localhost:8080/",
          "height": 204
        },
        "id": "4pY9riJJBQsB",
        "outputId": "b6bdef14-8ba3-441a-aab5-5a7576b06565"
      },
      "source": [
        "# Create a data frame, named df3, which contains:\n",
        "# •\t'E' = np.array([4]*5,dtype='int32')\n",
        "# • 'Day' = 2\n",
        "\n",
        "df3 = pd.DataFrame({'E': np.array([4]*5, dtype='int32'), 'Day': 2})\n",
        "df3"
      ],
      "execution_count": null,
      "outputs": [
        {
          "output_type": "execute_result",
          "data": {
            "text/html": [
              "<div>\n",
              "<style scoped>\n",
              "    .dataframe tbody tr th:only-of-type {\n",
              "        vertical-align: middle;\n",
              "    }\n",
              "\n",
              "    .dataframe tbody tr th {\n",
              "        vertical-align: top;\n",
              "    }\n",
              "\n",
              "    .dataframe thead th {\n",
              "        text-align: right;\n",
              "    }\n",
              "</style>\n",
              "<table border=\"1\" class=\"dataframe\">\n",
              "  <thead>\n",
              "    <tr style=\"text-align: right;\">\n",
              "      <th></th>\n",
              "      <th>E</th>\n",
              "      <th>Day</th>\n",
              "    </tr>\n",
              "  </thead>\n",
              "  <tbody>\n",
              "    <tr>\n",
              "      <th>0</th>\n",
              "      <td>4</td>\n",
              "      <td>2</td>\n",
              "    </tr>\n",
              "    <tr>\n",
              "      <th>1</th>\n",
              "      <td>4</td>\n",
              "      <td>2</td>\n",
              "    </tr>\n",
              "    <tr>\n",
              "      <th>2</th>\n",
              "      <td>4</td>\n",
              "      <td>2</td>\n",
              "    </tr>\n",
              "    <tr>\n",
              "      <th>3</th>\n",
              "      <td>4</td>\n",
              "      <td>2</td>\n",
              "    </tr>\n",
              "    <tr>\n",
              "      <th>4</th>\n",
              "      <td>4</td>\n",
              "      <td>2</td>\n",
              "    </tr>\n",
              "  </tbody>\n",
              "</table>\n",
              "</div>"
            ],
            "text/plain": [
              "   E  Day\n",
              "0  4    2\n",
              "1  4    2\n",
              "2  4    2\n",
              "3  4    2\n",
              "4  4    2"
            ]
          },
          "metadata": {
            "tags": []
          },
          "execution_count": 16
        }
      ]
    },
    {
      "cell_type": "code",
      "metadata": {
        "id": "ub9X4HGTC52n",
        "colab": {
          "base_uri": "https://localhost:8080/",
          "height": 173
        },
        "outputId": "f55e553e-2d57-4bb3-d044-962abdf3fddd"
      },
      "source": [
        "# IMPORTING FILES\n",
        "# .csv files\n",
        "\n",
        "# Use file path /content/input.csv\n",
        "import pandas as pd\n",
        "df4 = pd.read_csv('/content/input.csv')\n",
        "df4.head(4)"
      ],
      "execution_count": 3,
      "outputs": [
        {
          "output_type": "execute_result",
          "data": {
            "text/html": [
              "<div>\n",
              "<style scoped>\n",
              "    .dataframe tbody tr th:only-of-type {\n",
              "        vertical-align: middle;\n",
              "    }\n",
              "\n",
              "    .dataframe tbody tr th {\n",
              "        vertical-align: top;\n",
              "    }\n",
              "\n",
              "    .dataframe thead th {\n",
              "        text-align: right;\n",
              "    }\n",
              "</style>\n",
              "<table border=\"1\" class=\"dataframe\">\n",
              "  <thead>\n",
              "    <tr style=\"text-align: right;\">\n",
              "      <th></th>\n",
              "      <th>A</th>\n",
              "      <th>B</th>\n",
              "      <th>C</th>\n",
              "      <th>D</th>\n",
              "    </tr>\n",
              "  </thead>\n",
              "  <tbody>\n",
              "    <tr>\n",
              "      <th>0</th>\n",
              "      <td>3</td>\n",
              "      <td>4</td>\n",
              "      <td>5.0</td>\n",
              "      <td>NaN</td>\n",
              "    </tr>\n",
              "    <tr>\n",
              "      <th>1</th>\n",
              "      <td>12</td>\n",
              "      <td>4</td>\n",
              "      <td>NaN</td>\n",
              "      <td>NaN</td>\n",
              "    </tr>\n",
              "    <tr>\n",
              "      <th>2</th>\n",
              "      <td>6</td>\n",
              "      <td>2</td>\n",
              "      <td>4.0</td>\n",
              "      <td>NaN</td>\n",
              "    </tr>\n",
              "    <tr>\n",
              "      <th>3</th>\n",
              "      <td>6</td>\n",
              "      <td>24</td>\n",
              "      <td>1.0</td>\n",
              "      <td>NaN</td>\n",
              "    </tr>\n",
              "  </tbody>\n",
              "</table>\n",
              "</div>"
            ],
            "text/plain": [
              "    A   B    C   D\n",
              "0   3   4  5.0 NaN\n",
              "1  12   4  NaN NaN\n",
              "2   6   2  4.0 NaN\n",
              "3   6  24  1.0 NaN"
            ]
          },
          "metadata": {
            "tags": []
          },
          "execution_count": 3
        }
      ]
    },
    {
      "cell_type": "code",
      "metadata": {
        "colab": {
          "base_uri": "https://localhost:8080/",
          "height": 111
        },
        "id": "hm66kKOkALEu",
        "outputId": "f0de2511-8648-4e36-8298-4e7a5b142f7d"
      },
      "source": [
        "# Import the file 'example_2.json' in the dataframe df5\n",
        "# Use the file path /content/example_2.json \n",
        "\n",
        "df5 = pd.read_json('/content/example_2.json')\n",
        "df5.head(4)"
      ],
      "execution_count": null,
      "outputs": [
        {
          "output_type": "execute_result",
          "data": {
            "text/html": [
              "<div>\n",
              "<style scoped>\n",
              "    .dataframe tbody tr th:only-of-type {\n",
              "        vertical-align: middle;\n",
              "    }\n",
              "\n",
              "    .dataframe tbody tr th {\n",
              "        vertical-align: top;\n",
              "    }\n",
              "\n",
              "    .dataframe thead th {\n",
              "        text-align: right;\n",
              "    }\n",
              "</style>\n",
              "<table border=\"1\" class=\"dataframe\">\n",
              "  <thead>\n",
              "    <tr style=\"text-align: right;\">\n",
              "      <th></th>\n",
              "      <th>quiz</th>\n",
              "    </tr>\n",
              "  </thead>\n",
              "  <tbody>\n",
              "    <tr>\n",
              "      <th>maths</th>\n",
              "      <td>{'q1': {'question': '5 + 7 = ?', 'options': ['...</td>\n",
              "    </tr>\n",
              "    <tr>\n",
              "      <th>sport</th>\n",
              "      <td>{'q1': {'question': 'Which one is correct team...</td>\n",
              "    </tr>\n",
              "  </tbody>\n",
              "</table>\n",
              "</div>"
            ],
            "text/plain": [
              "                                                    quiz\n",
              "maths  {'q1': {'question': '5 + 7 = ?', 'options': ['...\n",
              "sport  {'q1': {'question': 'Which one is correct team..."
            ]
          },
          "metadata": {
            "tags": []
          },
          "execution_count": 31
        }
      ]
    },
    {
      "cell_type": "code",
      "metadata": {
        "colab": {
          "base_uri": "https://localhost:8080/",
          "height": 173
        },
        "id": "-swEhSwhUOSE",
        "outputId": "b8d832ef-bb65-4679-92a1-dce1aac39339"
      },
      "source": [
        "# Importing files from a url \n",
        "# Import data from this github repo: https://raw.githubusercontent.com/BurhanYerebakan/Input/main/input.csv)\n",
        "\n",
        "df6 = pd.read_csv('https://raw.githubusercontent.com/BurhanYerebakan/Input/main/input.csv')\n",
        "df6.head(4)"
      ],
      "execution_count": null,
      "outputs": [
        {
          "output_type": "execute_result",
          "data": {
            "text/html": [
              "<div>\n",
              "<style scoped>\n",
              "    .dataframe tbody tr th:only-of-type {\n",
              "        vertical-align: middle;\n",
              "    }\n",
              "\n",
              "    .dataframe tbody tr th {\n",
              "        vertical-align: top;\n",
              "    }\n",
              "\n",
              "    .dataframe thead th {\n",
              "        text-align: right;\n",
              "    }\n",
              "</style>\n",
              "<table border=\"1\" class=\"dataframe\">\n",
              "  <thead>\n",
              "    <tr style=\"text-align: right;\">\n",
              "      <th></th>\n",
              "      <th>A</th>\n",
              "      <th>B</th>\n",
              "      <th>C</th>\n",
              "      <th>D</th>\n",
              "    </tr>\n",
              "  </thead>\n",
              "  <tbody>\n",
              "    <tr>\n",
              "      <th>0</th>\n",
              "      <td>3</td>\n",
              "      <td>4</td>\n",
              "      <td>5.0</td>\n",
              "      <td>NaN</td>\n",
              "    </tr>\n",
              "    <tr>\n",
              "      <th>1</th>\n",
              "      <td>12</td>\n",
              "      <td>4</td>\n",
              "      <td>NaN</td>\n",
              "      <td>NaN</td>\n",
              "    </tr>\n",
              "    <tr>\n",
              "      <th>2</th>\n",
              "      <td>6</td>\n",
              "      <td>2</td>\n",
              "      <td>4.0</td>\n",
              "      <td>NaN</td>\n",
              "    </tr>\n",
              "    <tr>\n",
              "      <th>3</th>\n",
              "      <td>6</td>\n",
              "      <td>24</td>\n",
              "      <td>1.0</td>\n",
              "      <td>NaN</td>\n",
              "    </tr>\n",
              "  </tbody>\n",
              "</table>\n",
              "</div>"
            ],
            "text/plain": [
              "    A   B    C   D\n",
              "0   3   4  5.0 NaN\n",
              "1  12   4  NaN NaN\n",
              "2   6   2  4.0 NaN\n",
              "3   6  24  1.0 NaN"
            ]
          },
          "metadata": {
            "tags": []
          },
          "execution_count": 33
        }
      ]
    },
    {
      "cell_type": "code",
      "metadata": {
        "id": "_965yBFSVp0I",
        "colab": {
          "base_uri": "https://localhost:8080/",
          "height": 111
        },
        "outputId": "b1457c44-1023-4a3c-c569-eca7fdac9bb8"
      },
      "source": [
        "# Create the dataframe df7 \n",
        "\n",
        "# Then, import data from this github repo: \"https://raw.githubusercontent.com/BurhanYerebakan/example2/main/example_2.json\")\n",
        "import pandas as pd\n",
        "df7 = pd.read_json('https://raw.githubusercontent.com/BurhanYerebakan/example2/main/example_2.json')\n",
        "df7.head(4)"
      ],
      "execution_count": null,
      "outputs": [
        {
          "output_type": "execute_result",
          "data": {
            "text/html": [
              "<div>\n",
              "<style scoped>\n",
              "    .dataframe tbody tr th:only-of-type {\n",
              "        vertical-align: middle;\n",
              "    }\n",
              "\n",
              "    .dataframe tbody tr th {\n",
              "        vertical-align: top;\n",
              "    }\n",
              "\n",
              "    .dataframe thead th {\n",
              "        text-align: right;\n",
              "    }\n",
              "</style>\n",
              "<table border=\"1\" class=\"dataframe\">\n",
              "  <thead>\n",
              "    <tr style=\"text-align: right;\">\n",
              "      <th></th>\n",
              "      <th>quiz</th>\n",
              "    </tr>\n",
              "  </thead>\n",
              "  <tbody>\n",
              "    <tr>\n",
              "      <th>maths</th>\n",
              "      <td>{'q1': {'question': '5 + 7 = ?', 'options': ['...</td>\n",
              "    </tr>\n",
              "    <tr>\n",
              "      <th>sport</th>\n",
              "      <td>{'q1': {'question': 'Which one is correct team...</td>\n",
              "    </tr>\n",
              "  </tbody>\n",
              "</table>\n",
              "</div>"
            ],
            "text/plain": [
              "                                                    quiz\n",
              "maths  {'q1': {'question': '5 + 7 = ?', 'options': ['...\n",
              "sport  {'q1': {'question': 'Which one is correct team..."
            ]
          },
          "metadata": {
            "tags": []
          },
          "execution_count": 2
        }
      ]
    },
    {
      "cell_type": "code",
      "metadata": {
        "id": "m3kXHVezMmXU"
      },
      "source": [
        "# EXPORTING FILES\n",
        "# .csv files\n",
        "# Use file path: /content/input.csv\n",
        "import pandas as pd\n",
        "df4 = pd.read_csv('/content/input.csv')\n",
        "df4.to_csv('/content/flightsLAX.csv')\n",
        "\n",
        "\n"
      ],
      "execution_count": 8,
      "outputs": []
    },
    {
      "cell_type": "code",
      "metadata": {
        "id": "5yGa_fwEW_NX"
      },
      "source": [
        "# Export the data in df4, to 'example_2.json'\n",
        "# Use the file path: /content/example_2.json\n",
        "import pandas as pd\n",
        "df4 = pd.read_csv('/content/input.csv')\n",
        "df4.to_json('/content/example_2.json')"
      ],
      "execution_count": 9,
      "outputs": []
    },
    {
      "cell_type": "code",
      "metadata": {
        "id": "j6RPJZrhYx2Q",
        "colab": {
          "base_uri": "https://localhost:8080/",
          "height": 266
        },
        "outputId": "87cb4110-b5c3-46cd-a920-74416993a05d"
      },
      "source": [
        "# DATA SUMMARY\n",
        "\n",
        "df6 = pd.read_csv('https://raw.githubusercontent.com/BurhanYerebakan/input/main/input.csv')\n",
        "df6"
      ],
      "execution_count": 10,
      "outputs": [
        {
          "output_type": "execute_result",
          "data": {
            "text/html": [
              "<div>\n",
              "<style scoped>\n",
              "    .dataframe tbody tr th:only-of-type {\n",
              "        vertical-align: middle;\n",
              "    }\n",
              "\n",
              "    .dataframe tbody tr th {\n",
              "        vertical-align: top;\n",
              "    }\n",
              "\n",
              "    .dataframe thead th {\n",
              "        text-align: right;\n",
              "    }\n",
              "</style>\n",
              "<table border=\"1\" class=\"dataframe\">\n",
              "  <thead>\n",
              "    <tr style=\"text-align: right;\">\n",
              "      <th></th>\n",
              "      <th>A</th>\n",
              "      <th>B</th>\n",
              "      <th>C</th>\n",
              "      <th>D</th>\n",
              "    </tr>\n",
              "  </thead>\n",
              "  <tbody>\n",
              "    <tr>\n",
              "      <th>0</th>\n",
              "      <td>3</td>\n",
              "      <td>4</td>\n",
              "      <td>5.0</td>\n",
              "      <td>NaN</td>\n",
              "    </tr>\n",
              "    <tr>\n",
              "      <th>1</th>\n",
              "      <td>12</td>\n",
              "      <td>4</td>\n",
              "      <td>NaN</td>\n",
              "      <td>NaN</td>\n",
              "    </tr>\n",
              "    <tr>\n",
              "      <th>2</th>\n",
              "      <td>6</td>\n",
              "      <td>2</td>\n",
              "      <td>4.0</td>\n",
              "      <td>NaN</td>\n",
              "    </tr>\n",
              "    <tr>\n",
              "      <th>3</th>\n",
              "      <td>6</td>\n",
              "      <td>24</td>\n",
              "      <td>1.0</td>\n",
              "      <td>NaN</td>\n",
              "    </tr>\n",
              "    <tr>\n",
              "      <th>4</th>\n",
              "      <td>8</td>\n",
              "      <td>3</td>\n",
              "      <td>7.0</td>\n",
              "      <td>NaN</td>\n",
              "    </tr>\n",
              "    <tr>\n",
              "      <th>5</th>\n",
              "      <td>98</td>\n",
              "      <td>3</td>\n",
              "      <td>4.0</td>\n",
              "      <td>5.5</td>\n",
              "    </tr>\n",
              "    <tr>\n",
              "      <th>6</th>\n",
              "      <td>12</td>\n",
              "      <td>9</td>\n",
              "      <td>9.0</td>\n",
              "      <td>12.4</td>\n",
              "    </tr>\n",
              "  </tbody>\n",
              "</table>\n",
              "</div>"
            ],
            "text/plain": [
              "    A   B    C     D\n",
              "0   3   4  5.0   NaN\n",
              "1  12   4  NaN   NaN\n",
              "2   6   2  4.0   NaN\n",
              "3   6  24  1.0   NaN\n",
              "4   8   3  7.0   NaN\n",
              "5  98   3  4.0   5.5\n",
              "6  12   9  9.0  12.4"
            ]
          },
          "metadata": {
            "tags": []
          },
          "execution_count": 10
        }
      ]
    },
    {
      "cell_type": "code",
      "metadata": {
        "id": "KWkgdWwMRsDR",
        "colab": {
          "base_uri": "https://localhost:8080/"
        },
        "outputId": "6b54739a-172f-42d0-d8b7-fef79169583e"
      },
      "source": [
        "# Quick Summary of Data\n",
        "df6.info()"
      ],
      "execution_count": 11,
      "outputs": [
        {
          "output_type": "stream",
          "text": [
            "<class 'pandas.core.frame.DataFrame'>\n",
            "RangeIndex: 7 entries, 0 to 6\n",
            "Data columns (total 4 columns):\n",
            " #   Column  Non-Null Count  Dtype  \n",
            "---  ------  --------------  -----  \n",
            " 0   A       7 non-null      int64  \n",
            " 1   B       7 non-null      int64  \n",
            " 2   C       6 non-null      float64\n",
            " 3   D       2 non-null      float64\n",
            "dtypes: float64(2), int64(2)\n",
            "memory usage: 352.0 bytes\n"
          ],
          "name": "stdout"
        }
      ]
    },
    {
      "cell_type": "code",
      "metadata": {
        "id": "EqKQZeC5O6a9",
        "colab": {
          "base_uri": "https://localhost:8080/",
          "height": 297
        },
        "outputId": "41d1a055-45fc-4dfa-b0df-c2bce59ac9c0"
      },
      "source": [
        "# Detailed Summary of Data\n",
        "df6.describe()"
      ],
      "execution_count": 12,
      "outputs": [
        {
          "output_type": "execute_result",
          "data": {
            "text/html": [
              "<div>\n",
              "<style scoped>\n",
              "    .dataframe tbody tr th:only-of-type {\n",
              "        vertical-align: middle;\n",
              "    }\n",
              "\n",
              "    .dataframe tbody tr th {\n",
              "        vertical-align: top;\n",
              "    }\n",
              "\n",
              "    .dataframe thead th {\n",
              "        text-align: right;\n",
              "    }\n",
              "</style>\n",
              "<table border=\"1\" class=\"dataframe\">\n",
              "  <thead>\n",
              "    <tr style=\"text-align: right;\">\n",
              "      <th></th>\n",
              "      <th>A</th>\n",
              "      <th>B</th>\n",
              "      <th>C</th>\n",
              "      <th>D</th>\n",
              "    </tr>\n",
              "  </thead>\n",
              "  <tbody>\n",
              "    <tr>\n",
              "      <th>count</th>\n",
              "      <td>7.000000</td>\n",
              "      <td>7.00000</td>\n",
              "      <td>6.00000</td>\n",
              "      <td>2.000000</td>\n",
              "    </tr>\n",
              "    <tr>\n",
              "      <th>mean</th>\n",
              "      <td>20.714286</td>\n",
              "      <td>7.00000</td>\n",
              "      <td>5.00000</td>\n",
              "      <td>8.950000</td>\n",
              "    </tr>\n",
              "    <tr>\n",
              "      <th>std</th>\n",
              "      <td>34.237963</td>\n",
              "      <td>7.83156</td>\n",
              "      <td>2.75681</td>\n",
              "      <td>4.879037</td>\n",
              "    </tr>\n",
              "    <tr>\n",
              "      <th>min</th>\n",
              "      <td>3.000000</td>\n",
              "      <td>2.00000</td>\n",
              "      <td>1.00000</td>\n",
              "      <td>5.500000</td>\n",
              "    </tr>\n",
              "    <tr>\n",
              "      <th>25%</th>\n",
              "      <td>6.000000</td>\n",
              "      <td>3.00000</td>\n",
              "      <td>4.00000</td>\n",
              "      <td>7.225000</td>\n",
              "    </tr>\n",
              "    <tr>\n",
              "      <th>50%</th>\n",
              "      <td>8.000000</td>\n",
              "      <td>4.00000</td>\n",
              "      <td>4.50000</td>\n",
              "      <td>8.950000</td>\n",
              "    </tr>\n",
              "    <tr>\n",
              "      <th>75%</th>\n",
              "      <td>12.000000</td>\n",
              "      <td>6.50000</td>\n",
              "      <td>6.50000</td>\n",
              "      <td>10.675000</td>\n",
              "    </tr>\n",
              "    <tr>\n",
              "      <th>max</th>\n",
              "      <td>98.000000</td>\n",
              "      <td>24.00000</td>\n",
              "      <td>9.00000</td>\n",
              "      <td>12.400000</td>\n",
              "    </tr>\n",
              "  </tbody>\n",
              "</table>\n",
              "</div>"
            ],
            "text/plain": [
              "               A         B        C          D\n",
              "count   7.000000   7.00000  6.00000   2.000000\n",
              "mean   20.714286   7.00000  5.00000   8.950000\n",
              "std    34.237963   7.83156  2.75681   4.879037\n",
              "min     3.000000   2.00000  1.00000   5.500000\n",
              "25%     6.000000   3.00000  4.00000   7.225000\n",
              "50%     8.000000   4.00000  4.50000   8.950000\n",
              "75%    12.000000   6.50000  6.50000  10.675000\n",
              "max    98.000000  24.00000  9.00000  12.400000"
            ]
          },
          "metadata": {
            "tags": []
          },
          "execution_count": 12
        }
      ]
    },
    {
      "cell_type": "code",
      "metadata": {
        "colab": {
          "base_uri": "https://localhost:8080/"
        },
        "id": "1O6V8SPmn1O9",
        "outputId": "9f513f99-56f4-4b97-cadb-9a405e16c1d9"
      },
      "source": [
        "# View Columns\n",
        "\n",
        "df6.columns"
      ],
      "execution_count": 15,
      "outputs": [
        {
          "output_type": "execute_result",
          "data": {
            "text/plain": [
              "Index(['A', 'B', 'C', 'D'], dtype='object')"
            ]
          },
          "metadata": {
            "tags": []
          },
          "execution_count": 15
        }
      ]
    },
    {
      "cell_type": "code",
      "metadata": {
        "colab": {
          "base_uri": "https://localhost:8080/"
        },
        "id": "weM_h9PxoOVo",
        "outputId": "084868e2-a857-4f09-a621-f6e6fd1ccc57"
      },
      "source": [
        "# View the columns in df7\n",
        "df7 = pd.read_json('https://raw.githubusercontent.com/BurhanYerebakan/example2/main/example_2.json')\n",
        "df7.columns"
      ],
      "execution_count": 16,
      "outputs": [
        {
          "output_type": "execute_result",
          "data": {
            "text/plain": [
              "Index(['quiz'], dtype='object')"
            ]
          },
          "metadata": {
            "tags": []
          },
          "execution_count": 16
        }
      ]
    },
    {
      "cell_type": "code",
      "metadata": {
        "colab": {
          "base_uri": "https://localhost:8080/"
        },
        "id": "KQNtPsyKoyaQ",
        "outputId": "2d31c2b1-df31-43cf-f471-5e2456a0ce99"
      },
      "source": [
        "# View Datatypes\n",
        "df6.dtypes"
      ],
      "execution_count": 17,
      "outputs": [
        {
          "output_type": "execute_result",
          "data": {
            "text/plain": [
              "A      int64\n",
              "B      int64\n",
              "C    float64\n",
              "D    float64\n",
              "dtype: object"
            ]
          },
          "metadata": {
            "tags": []
          },
          "execution_count": 17
        }
      ]
    },
    {
      "cell_type": "code",
      "metadata": {
        "colab": {
          "base_uri": "https://localhost:8080/"
        },
        "id": "2010FjzjpMxm",
        "outputId": "c75f04e5-78f3-4a54-93f0-5056b7e67d55"
      },
      "source": [
        "df7.dtypes"
      ],
      "execution_count": 18,
      "outputs": [
        {
          "output_type": "execute_result",
          "data": {
            "text/plain": [
              "quiz    object\n",
              "dtype: object"
            ]
          },
          "metadata": {
            "tags": []
          },
          "execution_count": 18
        }
      ]
    },
    {
      "cell_type": "code",
      "metadata": {
        "colab": {
          "base_uri": "https://localhost:8080/"
        },
        "id": "y73-luB2pa0j",
        "outputId": "a71ed444-9140-4d25-d6cf-59c23a10c40d"
      },
      "source": [
        "# HANDLING DUPLICATES\n",
        "\n",
        "# Detect Duplicate Rows\n",
        "\n",
        "df6.duplicated()"
      ],
      "execution_count": 19,
      "outputs": [
        {
          "output_type": "execute_result",
          "data": {
            "text/plain": [
              "0    False\n",
              "1    False\n",
              "2    False\n",
              "3    False\n",
              "4    False\n",
              "5    False\n",
              "6    False\n",
              "dtype: bool"
            ]
          },
          "metadata": {
            "tags": []
          },
          "execution_count": 19
        }
      ]
    },
    {
      "cell_type": "code",
      "metadata": {
        "colab": {
          "base_uri": "https://localhost:8080/"
        },
        "id": "PmZGR5V2p3j-",
        "outputId": "7ea86391-0067-4b67-ab72-90651badd76a"
      },
      "source": [
        "df6.drop_duplicates"
      ],
      "execution_count": 20,
      "outputs": [
        {
          "output_type": "execute_result",
          "data": {
            "text/plain": [
              "<bound method DataFrame.drop_duplicates of     A   B    C     D\n",
              "0   3   4  5.0   NaN\n",
              "1  12   4  NaN   NaN\n",
              "2   6   2  4.0   NaN\n",
              "3   6  24  1.0   NaN\n",
              "4   8   3  7.0   NaN\n",
              "5  98   3  4.0   5.5\n",
              "6  12   9  9.0  12.4>"
            ]
          },
          "metadata": {
            "tags": []
          },
          "execution_count": 20
        }
      ]
    },
    {
      "cell_type": "code",
      "metadata": {
        "colab": {
          "base_uri": "https://localhost:8080/"
        },
        "id": "ZumOgaTHqGGQ",
        "outputId": "e7ad5518-dcb8-4d19-9f64-6572ba1249e0"
      },
      "source": [
        "# HANDLING MISSING VALUES\n",
        "\n",
        "# Detect Missing Values\n",
        "\n",
        "print(df6.isnull().sum())"
      ],
      "execution_count": 27,
      "outputs": [
        {
          "output_type": "stream",
          "text": [
            "A    0\n",
            "B    0\n",
            "C    1\n",
            "D    5\n",
            "dtype: int64\n"
          ],
          "name": "stdout"
        }
      ]
    },
    {
      "cell_type": "code",
      "metadata": {
        "colab": {
          "base_uri": "https://localhost:8080/",
          "height": 111
        },
        "id": "dhTixfJVqO2l",
        "outputId": "b97e2c05-1672-4e2b-b0b5-361747a292b1"
      },
      "source": [
        "# Drop Missing Values\n",
        "\n",
        "df6.dropna()"
      ],
      "execution_count": 28,
      "outputs": [
        {
          "output_type": "execute_result",
          "data": {
            "text/html": [
              "<div>\n",
              "<style scoped>\n",
              "    .dataframe tbody tr th:only-of-type {\n",
              "        vertical-align: middle;\n",
              "    }\n",
              "\n",
              "    .dataframe tbody tr th {\n",
              "        vertical-align: top;\n",
              "    }\n",
              "\n",
              "    .dataframe thead th {\n",
              "        text-align: right;\n",
              "    }\n",
              "</style>\n",
              "<table border=\"1\" class=\"dataframe\">\n",
              "  <thead>\n",
              "    <tr style=\"text-align: right;\">\n",
              "      <th></th>\n",
              "      <th>A</th>\n",
              "      <th>B</th>\n",
              "      <th>C</th>\n",
              "      <th>D</th>\n",
              "    </tr>\n",
              "  </thead>\n",
              "  <tbody>\n",
              "    <tr>\n",
              "      <th>5</th>\n",
              "      <td>98</td>\n",
              "      <td>3</td>\n",
              "      <td>4.0</td>\n",
              "      <td>5.5</td>\n",
              "    </tr>\n",
              "    <tr>\n",
              "      <th>6</th>\n",
              "      <td>12</td>\n",
              "      <td>9</td>\n",
              "      <td>9.0</td>\n",
              "      <td>12.4</td>\n",
              "    </tr>\n",
              "  </tbody>\n",
              "</table>\n",
              "</div>"
            ],
            "text/plain": [
              "    A  B    C     D\n",
              "5  98  3  4.0   5.5\n",
              "6  12  9  9.0  12.4"
            ]
          },
          "metadata": {
            "tags": []
          },
          "execution_count": 28
        }
      ]
    },
    {
      "cell_type": "code",
      "metadata": {
        "colab": {
          "base_uri": "https://localhost:8080/"
        },
        "id": "Q1763ulgsITq",
        "outputId": "4cf013aa-efe9-41b0-8c07-0cf0360159e5"
      },
      "source": [
        "print(df7.isnull().sum())"
      ],
      "execution_count": 30,
      "outputs": [
        {
          "output_type": "stream",
          "text": [
            "quiz    0\n",
            "dtype: int64\n"
          ],
          "name": "stdout"
        }
      ]
    },
    {
      "cell_type": "code",
      "metadata": {
        "colab": {
          "base_uri": "https://localhost:8080/",
          "height": 111
        },
        "id": "QcX-pIvGshml",
        "outputId": "8c32373c-be64-4f5f-c086-9bbc592fb018"
      },
      "source": [
        "df7.dropna()"
      ],
      "execution_count": 31,
      "outputs": [
        {
          "output_type": "execute_result",
          "data": {
            "text/html": [
              "<div>\n",
              "<style scoped>\n",
              "    .dataframe tbody tr th:only-of-type {\n",
              "        vertical-align: middle;\n",
              "    }\n",
              "\n",
              "    .dataframe tbody tr th {\n",
              "        vertical-align: top;\n",
              "    }\n",
              "\n",
              "    .dataframe thead th {\n",
              "        text-align: right;\n",
              "    }\n",
              "</style>\n",
              "<table border=\"1\" class=\"dataframe\">\n",
              "  <thead>\n",
              "    <tr style=\"text-align: right;\">\n",
              "      <th></th>\n",
              "      <th>quiz</th>\n",
              "    </tr>\n",
              "  </thead>\n",
              "  <tbody>\n",
              "    <tr>\n",
              "      <th>maths</th>\n",
              "      <td>{'q1': {'question': '5 + 7 = ?', 'options': ['...</td>\n",
              "    </tr>\n",
              "    <tr>\n",
              "      <th>sport</th>\n",
              "      <td>{'q1': {'question': 'Which one is correct team...</td>\n",
              "    </tr>\n",
              "  </tbody>\n",
              "</table>\n",
              "</div>"
            ],
            "text/plain": [
              "                                                    quiz\n",
              "maths  {'q1': {'question': '5 + 7 = ?', 'options': ['...\n",
              "sport  {'q1': {'question': 'Which one is correct team..."
            ]
          },
          "metadata": {
            "tags": []
          },
          "execution_count": 31
        }
      ]
    },
    {
      "cell_type": "code",
      "metadata": {
        "colab": {
          "base_uri": "https://localhost:8080/",
          "height": 235
        },
        "id": "5iK__xxKsuwA",
        "outputId": "d5b99625-f725-4c15-acf6-d57f2916c9ac"
      },
      "source": [
        "# NUMERIC OPERATIONS \n",
        "\n",
        "import numpy as np\n",
        "import pandas as pd\n",
        "df8 = pd.DataFrame(np.random.randn(6,4))\n",
        "df8"
      ],
      "execution_count": 33,
      "outputs": [
        {
          "output_type": "execute_result",
          "data": {
            "text/html": [
              "<div>\n",
              "<style scoped>\n",
              "    .dataframe tbody tr th:only-of-type {\n",
              "        vertical-align: middle;\n",
              "    }\n",
              "\n",
              "    .dataframe tbody tr th {\n",
              "        vertical-align: top;\n",
              "    }\n",
              "\n",
              "    .dataframe thead th {\n",
              "        text-align: right;\n",
              "    }\n",
              "</style>\n",
              "<table border=\"1\" class=\"dataframe\">\n",
              "  <thead>\n",
              "    <tr style=\"text-align: right;\">\n",
              "      <th></th>\n",
              "      <th>0</th>\n",
              "      <th>1</th>\n",
              "      <th>2</th>\n",
              "      <th>3</th>\n",
              "    </tr>\n",
              "  </thead>\n",
              "  <tbody>\n",
              "    <tr>\n",
              "      <th>0</th>\n",
              "      <td>-0.911665</td>\n",
              "      <td>0.167527</td>\n",
              "      <td>1.599176</td>\n",
              "      <td>-0.827027</td>\n",
              "    </tr>\n",
              "    <tr>\n",
              "      <th>1</th>\n",
              "      <td>-0.311273</td>\n",
              "      <td>0.150151</td>\n",
              "      <td>0.517611</td>\n",
              "      <td>1.573053</td>\n",
              "    </tr>\n",
              "    <tr>\n",
              "      <th>2</th>\n",
              "      <td>1.190963</td>\n",
              "      <td>0.105083</td>\n",
              "      <td>0.228786</td>\n",
              "      <td>-0.963813</td>\n",
              "    </tr>\n",
              "    <tr>\n",
              "      <th>3</th>\n",
              "      <td>0.274736</td>\n",
              "      <td>-0.090309</td>\n",
              "      <td>-0.044106</td>\n",
              "      <td>-0.648337</td>\n",
              "    </tr>\n",
              "    <tr>\n",
              "      <th>4</th>\n",
              "      <td>-0.471211</td>\n",
              "      <td>-0.944106</td>\n",
              "      <td>0.430169</td>\n",
              "      <td>0.915523</td>\n",
              "    </tr>\n",
              "    <tr>\n",
              "      <th>5</th>\n",
              "      <td>-0.519992</td>\n",
              "      <td>-0.738763</td>\n",
              "      <td>0.488425</td>\n",
              "      <td>0.728425</td>\n",
              "    </tr>\n",
              "  </tbody>\n",
              "</table>\n",
              "</div>"
            ],
            "text/plain": [
              "          0         1         2         3\n",
              "0 -0.911665  0.167527  1.599176 -0.827027\n",
              "1 -0.311273  0.150151  0.517611  1.573053\n",
              "2  1.190963  0.105083  0.228786 -0.963813\n",
              "3  0.274736 -0.090309 -0.044106 -0.648337\n",
              "4 -0.471211 -0.944106  0.430169  0.915523\n",
              "5 -0.519992 -0.738763  0.488425  0.728425"
            ]
          },
          "metadata": {
            "tags": []
          },
          "execution_count": 33
        }
      ]
    },
    {
      "cell_type": "code",
      "metadata": {
        "colab": {
          "base_uri": "https://localhost:8080/"
        },
        "id": "3OJsnoznyNYe",
        "outputId": "d046196e-f890-426a-a2de-46b346827349"
      },
      "source": [
        "# Calculate the Mean:\n",
        "df8.mean()"
      ],
      "execution_count": 34,
      "outputs": [
        {
          "output_type": "execute_result",
          "data": {
            "text/plain": [
              "0   -0.124740\n",
              "1   -0.225069\n",
              "2    0.536677\n",
              "3    0.129637\n",
              "dtype: float64"
            ]
          },
          "metadata": {
            "tags": []
          },
          "execution_count": 34
        }
      ]
    },
    {
      "cell_type": "code",
      "metadata": {
        "colab": {
          "base_uri": "https://localhost:8080/",
          "height": 142
        },
        "id": "2fYxaz8_ykms",
        "outputId": "b4cab376-dfad-4aef-ae30-5eb7254b290f"
      },
      "source": [
        "df9 = pd.DataFrame(np.random.randn(3,4))\n",
        "df9\n",
        "                  "
      ],
      "execution_count": 35,
      "outputs": [
        {
          "output_type": "execute_result",
          "data": {
            "text/html": [
              "<div>\n",
              "<style scoped>\n",
              "    .dataframe tbody tr th:only-of-type {\n",
              "        vertical-align: middle;\n",
              "    }\n",
              "\n",
              "    .dataframe tbody tr th {\n",
              "        vertical-align: top;\n",
              "    }\n",
              "\n",
              "    .dataframe thead th {\n",
              "        text-align: right;\n",
              "    }\n",
              "</style>\n",
              "<table border=\"1\" class=\"dataframe\">\n",
              "  <thead>\n",
              "    <tr style=\"text-align: right;\">\n",
              "      <th></th>\n",
              "      <th>0</th>\n",
              "      <th>1</th>\n",
              "      <th>2</th>\n",
              "      <th>3</th>\n",
              "    </tr>\n",
              "  </thead>\n",
              "  <tbody>\n",
              "    <tr>\n",
              "      <th>0</th>\n",
              "      <td>0.225639</td>\n",
              "      <td>-0.005951</td>\n",
              "      <td>0.280668</td>\n",
              "      <td>0.383510</td>\n",
              "    </tr>\n",
              "    <tr>\n",
              "      <th>1</th>\n",
              "      <td>0.001194</td>\n",
              "      <td>0.888152</td>\n",
              "      <td>1.439383</td>\n",
              "      <td>-1.528954</td>\n",
              "    </tr>\n",
              "    <tr>\n",
              "      <th>2</th>\n",
              "      <td>-0.607152</td>\n",
              "      <td>0.387466</td>\n",
              "      <td>-2.269644</td>\n",
              "      <td>-1.931873</td>\n",
              "    </tr>\n",
              "  </tbody>\n",
              "</table>\n",
              "</div>"
            ],
            "text/plain": [
              "          0         1         2         3\n",
              "0  0.225639 -0.005951  0.280668  0.383510\n",
              "1  0.001194  0.888152  1.439383 -1.528954\n",
              "2 -0.607152  0.387466 -2.269644 -1.931873"
            ]
          },
          "metadata": {
            "tags": []
          },
          "execution_count": 35
        }
      ]
    },
    {
      "cell_type": "code",
      "metadata": {
        "colab": {
          "base_uri": "https://localhost:8080/"
        },
        "id": "sb-obEkZy5x-",
        "outputId": "501c1084-30a5-458e-ad8c-8d8bece118ae"
      },
      "source": [
        "df9.mean()"
      ],
      "execution_count": 36,
      "outputs": [
        {
          "output_type": "execute_result",
          "data": {
            "text/plain": [
              "0   -0.126773\n",
              "1    0.423222\n",
              "2   -0.183197\n",
              "3   -1.025772\n",
              "dtype: float64"
            ]
          },
          "metadata": {
            "tags": []
          },
          "execution_count": 36
        }
      ]
    },
    {
      "cell_type": "code",
      "metadata": {
        "colab": {
          "base_uri": "https://localhost:8080/",
          "height": 235
        },
        "id": "icbtD0I5zHhZ",
        "outputId": "ac38358e-dea6-4178-943b-9a5f4063bc0d"
      },
      "source": [
        "# Calculate the Cumulative Sum: \n",
        "\n",
        "df8.apply(np.cumsum)"
      ],
      "execution_count": 37,
      "outputs": [
        {
          "output_type": "execute_result",
          "data": {
            "text/html": [
              "<div>\n",
              "<style scoped>\n",
              "    .dataframe tbody tr th:only-of-type {\n",
              "        vertical-align: middle;\n",
              "    }\n",
              "\n",
              "    .dataframe tbody tr th {\n",
              "        vertical-align: top;\n",
              "    }\n",
              "\n",
              "    .dataframe thead th {\n",
              "        text-align: right;\n",
              "    }\n",
              "</style>\n",
              "<table border=\"1\" class=\"dataframe\">\n",
              "  <thead>\n",
              "    <tr style=\"text-align: right;\">\n",
              "      <th></th>\n",
              "      <th>0</th>\n",
              "      <th>1</th>\n",
              "      <th>2</th>\n",
              "      <th>3</th>\n",
              "    </tr>\n",
              "  </thead>\n",
              "  <tbody>\n",
              "    <tr>\n",
              "      <th>0</th>\n",
              "      <td>-0.911665</td>\n",
              "      <td>0.167527</td>\n",
              "      <td>1.599176</td>\n",
              "      <td>-0.827027</td>\n",
              "    </tr>\n",
              "    <tr>\n",
              "      <th>1</th>\n",
              "      <td>-1.222938</td>\n",
              "      <td>0.317678</td>\n",
              "      <td>2.116786</td>\n",
              "      <td>0.746026</td>\n",
              "    </tr>\n",
              "    <tr>\n",
              "      <th>2</th>\n",
              "      <td>-0.031975</td>\n",
              "      <td>0.422762</td>\n",
              "      <td>2.345572</td>\n",
              "      <td>-0.217787</td>\n",
              "    </tr>\n",
              "    <tr>\n",
              "      <th>3</th>\n",
              "      <td>0.242761</td>\n",
              "      <td>0.332452</td>\n",
              "      <td>2.301466</td>\n",
              "      <td>-0.866124</td>\n",
              "    </tr>\n",
              "    <tr>\n",
              "      <th>4</th>\n",
              "      <td>-0.228450</td>\n",
              "      <td>-0.611654</td>\n",
              "      <td>2.731635</td>\n",
              "      <td>0.049399</td>\n",
              "    </tr>\n",
              "    <tr>\n",
              "      <th>5</th>\n",
              "      <td>-0.748442</td>\n",
              "      <td>-1.350417</td>\n",
              "      <td>3.220059</td>\n",
              "      <td>0.777823</td>\n",
              "    </tr>\n",
              "  </tbody>\n",
              "</table>\n",
              "</div>"
            ],
            "text/plain": [
              "          0         1         2         3\n",
              "0 -0.911665  0.167527  1.599176 -0.827027\n",
              "1 -1.222938  0.317678  2.116786  0.746026\n",
              "2 -0.031975  0.422762  2.345572 -0.217787\n",
              "3  0.242761  0.332452  2.301466 -0.866124\n",
              "4 -0.228450 -0.611654  2.731635  0.049399\n",
              "5 -0.748442 -1.350417  3.220059  0.777823"
            ]
          },
          "metadata": {
            "tags": []
          },
          "execution_count": 37
        }
      ]
    },
    {
      "cell_type": "code",
      "metadata": {
        "colab": {
          "base_uri": "https://localhost:8080/",
          "height": 142
        },
        "id": "OVoP2JF6zhM7",
        "outputId": "77e44cd4-fcd9-41cf-9c38-9214aedd3d1a"
      },
      "source": [
        "df9.apply(np.cumsum)"
      ],
      "execution_count": 38,
      "outputs": [
        {
          "output_type": "execute_result",
          "data": {
            "text/html": [
              "<div>\n",
              "<style scoped>\n",
              "    .dataframe tbody tr th:only-of-type {\n",
              "        vertical-align: middle;\n",
              "    }\n",
              "\n",
              "    .dataframe tbody tr th {\n",
              "        vertical-align: top;\n",
              "    }\n",
              "\n",
              "    .dataframe thead th {\n",
              "        text-align: right;\n",
              "    }\n",
              "</style>\n",
              "<table border=\"1\" class=\"dataframe\">\n",
              "  <thead>\n",
              "    <tr style=\"text-align: right;\">\n",
              "      <th></th>\n",
              "      <th>0</th>\n",
              "      <th>1</th>\n",
              "      <th>2</th>\n",
              "      <th>3</th>\n",
              "    </tr>\n",
              "  </thead>\n",
              "  <tbody>\n",
              "    <tr>\n",
              "      <th>0</th>\n",
              "      <td>0.225639</td>\n",
              "      <td>-0.005951</td>\n",
              "      <td>0.280668</td>\n",
              "      <td>0.383510</td>\n",
              "    </tr>\n",
              "    <tr>\n",
              "      <th>1</th>\n",
              "      <td>0.226833</td>\n",
              "      <td>0.882201</td>\n",
              "      <td>1.720051</td>\n",
              "      <td>-1.145444</td>\n",
              "    </tr>\n",
              "    <tr>\n",
              "      <th>2</th>\n",
              "      <td>-0.380319</td>\n",
              "      <td>1.269667</td>\n",
              "      <td>-0.549592</td>\n",
              "      <td>-3.077316</td>\n",
              "    </tr>\n",
              "  </tbody>\n",
              "</table>\n",
              "</div>"
            ],
            "text/plain": [
              "          0         1         2         3\n",
              "0  0.225639 -0.005951  0.280668  0.383510\n",
              "1  0.226833  0.882201  1.720051 -1.145444\n",
              "2 -0.380319  1.269667 -0.549592 -3.077316"
            ]
          },
          "metadata": {
            "tags": []
          },
          "execution_count": 38
        }
      ]
    },
    {
      "cell_type": "code",
      "metadata": {
        "colab": {
          "base_uri": "https://localhost:8080/"
        },
        "id": "48lwFpZyzsgu",
        "outputId": "a29a3ac9-cf42-471c-f04b-b08a9ff6163f"
      },
      "source": [
        "# Find the Max Value: \n",
        "\n",
        "df8.max()"
      ],
      "execution_count": 39,
      "outputs": [
        {
          "output_type": "execute_result",
          "data": {
            "text/plain": [
              "0    1.190963\n",
              "1    0.167527\n",
              "2    1.599176\n",
              "3    1.573053\n",
              "dtype: float64"
            ]
          },
          "metadata": {
            "tags": []
          },
          "execution_count": 39
        }
      ]
    },
    {
      "cell_type": "code",
      "metadata": {
        "colab": {
          "base_uri": "https://localhost:8080/"
        },
        "id": "4FIHKvDez30n",
        "outputId": "cb2550a7-f7e7-484d-910a-9a9546c1cd96"
      },
      "source": [
        "df9.max()"
      ],
      "execution_count": 40,
      "outputs": [
        {
          "output_type": "execute_result",
          "data": {
            "text/plain": [
              "0    0.225639\n",
              "1    0.888152\n",
              "2    1.439383\n",
              "3    0.383510\n",
              "dtype: float64"
            ]
          },
          "metadata": {
            "tags": []
          },
          "execution_count": 40
        }
      ]
    },
    {
      "cell_type": "code",
      "metadata": {
        "colab": {
          "base_uri": "https://localhost:8080/"
        },
        "id": "oUFS8o-Q0I6t",
        "outputId": "8bc65ba4-ab45-4607-d552-ebf12928cc2b"
      },
      "source": [
        "# Find the Minimum Value:\n",
        "\n",
        "df8.min()"
      ],
      "execution_count": 41,
      "outputs": [
        {
          "output_type": "execute_result",
          "data": {
            "text/plain": [
              "0   -0.911665\n",
              "1   -0.944106\n",
              "2   -0.044106\n",
              "3   -0.963813\n",
              "dtype: float64"
            ]
          },
          "metadata": {
            "tags": []
          },
          "execution_count": 41
        }
      ]
    },
    {
      "cell_type": "code",
      "metadata": {
        "colab": {
          "base_uri": "https://localhost:8080/"
        },
        "id": "YvSwAoFT0Sgf",
        "outputId": "da03fdd1-9234-413a-d7f7-5656cc9c0e51"
      },
      "source": [
        "df9.min()"
      ],
      "execution_count": 42,
      "outputs": [
        {
          "output_type": "execute_result",
          "data": {
            "text/plain": [
              "0   -0.607152\n",
              "1   -0.005951\n",
              "2   -2.269644\n",
              "3   -1.931873\n",
              "dtype: float64"
            ]
          },
          "metadata": {
            "tags": []
          },
          "execution_count": 42
        }
      ]
    },
    {
      "cell_type": "code",
      "metadata": {
        "colab": {
          "base_uri": "https://localhost:8080/"
        },
        "id": "A4YFXmvn0VgC",
        "outputId": "0877a0f9-1292-4958-c763-1f12638812d1"
      },
      "source": [
        "# STRING MANIPULATION\n",
        "s7 = np.array(['animal', 'bird', 'Pandas Library'])\n",
        "s7 = pd.Series(s7)\n",
        "s7"
      ],
      "execution_count": 45,
      "outputs": [
        {
          "output_type": "execute_result",
          "data": {
            "text/plain": [
              "0            animal\n",
              "1              bird\n",
              "2    Pandas Library\n",
              "dtype: object"
            ]
          },
          "metadata": {
            "tags": []
          },
          "execution_count": 45
        }
      ]
    },
    {
      "cell_type": "code",
      "metadata": {
        "colab": {
          "base_uri": "https://localhost:8080/"
        },
        "id": "ihgHZCk41Fnn",
        "outputId": "25558ba1-a62d-45a0-be45-a9c864e9648d"
      },
      "source": [
        "# Convert to Lower Case\n",
        "s7.str.lower()"
      ],
      "execution_count": 46,
      "outputs": [
        {
          "output_type": "execute_result",
          "data": {
            "text/plain": [
              "0            animal\n",
              "1              bird\n",
              "2    pandas library\n",
              "dtype: object"
            ]
          },
          "metadata": {
            "tags": []
          },
          "execution_count": 46
        }
      ]
    },
    {
      "cell_type": "code",
      "metadata": {
        "colab": {
          "base_uri": "https://localhost:8080/"
        },
        "id": "-qwTynhh1l-y",
        "outputId": "e141ec19-7923-4404-e3b7-820e779f229c"
      },
      "source": [
        "s8 = np.array(['cat', 'dog', 'Python Programming'])\n",
        "s8 = pd.Series(s8)\n",
        "s8"
      ],
      "execution_count": 47,
      "outputs": [
        {
          "output_type": "execute_result",
          "data": {
            "text/plain": [
              "0                   cat\n",
              "1                   dog\n",
              "2    Python Programming\n",
              "dtype: object"
            ]
          },
          "metadata": {
            "tags": []
          },
          "execution_count": 47
        }
      ]
    },
    {
      "cell_type": "code",
      "metadata": {
        "colab": {
          "base_uri": "https://localhost:8080/"
        },
        "id": "pNSTPEfB13cu",
        "outputId": "e893ba5b-5bb6-4955-b07f-ca2b2083efb3"
      },
      "source": [
        "s8.str.lower()"
      ],
      "execution_count": 48,
      "outputs": [
        {
          "output_type": "execute_result",
          "data": {
            "text/plain": [
              "0                   cat\n",
              "1                   dog\n",
              "2    python programming\n",
              "dtype: object"
            ]
          },
          "metadata": {
            "tags": []
          },
          "execution_count": 48
        }
      ]
    },
    {
      "cell_type": "code",
      "metadata": {
        "colab": {
          "base_uri": "https://localhost:8080/"
        },
        "id": "2g75wQxJ1-tg",
        "outputId": "1fadd7a5-11ff-484c-faaa-34d26bb30a28"
      },
      "source": [
        "# Convert to Upper Case\n",
        "s7.str.upper()"
      ],
      "execution_count": 49,
      "outputs": [
        {
          "output_type": "execute_result",
          "data": {
            "text/plain": [
              "0            ANIMAL\n",
              "1              BIRD\n",
              "2    PANDAS LIBRARY\n",
              "dtype: object"
            ]
          },
          "metadata": {
            "tags": []
          },
          "execution_count": 49
        }
      ]
    },
    {
      "cell_type": "code",
      "metadata": {
        "colab": {
          "base_uri": "https://localhost:8080/"
        },
        "id": "6Mup0b0w2LIB",
        "outputId": "df4f641c-97d2-4d91-9beb-62c899a99ce4"
      },
      "source": [
        "s8.str.upper()"
      ],
      "execution_count": 50,
      "outputs": [
        {
          "output_type": "execute_result",
          "data": {
            "text/plain": [
              "0                   CAT\n",
              "1                   DOG\n",
              "2    PYTHON PROGRAMMING\n",
              "dtype: object"
            ]
          },
          "metadata": {
            "tags": []
          },
          "execution_count": 50
        }
      ]
    },
    {
      "cell_type": "code",
      "metadata": {
        "colab": {
          "base_uri": "https://localhost:8080/"
        },
        "id": "a1epssum2OzN",
        "outputId": "8c5bc820-903f-407f-9627-149e7b68eb44"
      },
      "source": [
        "# Swap Capitalization \n",
        "\n",
        "s7.str.swapcase()"
      ],
      "execution_count": 51,
      "outputs": [
        {
          "output_type": "execute_result",
          "data": {
            "text/plain": [
              "0            ANIMAL\n",
              "1              BIRD\n",
              "2    pANDAS lIBRARY\n",
              "dtype: object"
            ]
          },
          "metadata": {
            "tags": []
          },
          "execution_count": 51
        }
      ]
    },
    {
      "cell_type": "code",
      "metadata": {
        "colab": {
          "base_uri": "https://localhost:8080/"
        },
        "id": "Ud2-jYI63L2j",
        "outputId": "8f4e68f4-c6fc-438e-c47a-9534694ce40b"
      },
      "source": [
        "s8.str.swapcase()"
      ],
      "execution_count": 52,
      "outputs": [
        {
          "output_type": "execute_result",
          "data": {
            "text/plain": [
              "0                   CAT\n",
              "1                   DOG\n",
              "2    pYTHON pROGRAMMING\n",
              "dtype: object"
            ]
          },
          "metadata": {
            "tags": []
          },
          "execution_count": 52
        }
      ]
    },
    {
      "cell_type": "code",
      "metadata": {
        "colab": {
          "base_uri": "https://localhost:8080/"
        },
        "id": "j5zwc8Lk3Wuw",
        "outputId": "837e3491-1309-426c-e305-321944096fb8"
      },
      "source": [
        "# Find Length of String\n",
        "\n",
        "s7.str.len()"
      ],
      "execution_count": 53,
      "outputs": [
        {
          "output_type": "execute_result",
          "data": {
            "text/plain": [
              "0     6\n",
              "1     4\n",
              "2    14\n",
              "dtype: int64"
            ]
          },
          "metadata": {
            "tags": []
          },
          "execution_count": 53
        }
      ]
    },
    {
      "cell_type": "code",
      "metadata": {
        "colab": {
          "base_uri": "https://localhost:8080/"
        },
        "id": "jjco-iVp357H",
        "outputId": "0308a28f-5091-42df-f336-5e259f5237f3"
      },
      "source": [
        "s8.str.len()"
      ],
      "execution_count": 54,
      "outputs": [
        {
          "output_type": "execute_result",
          "data": {
            "text/plain": [
              "0     3\n",
              "1     3\n",
              "2    18\n",
              "dtype: int64"
            ]
          },
          "metadata": {
            "tags": []
          },
          "execution_count": 54
        }
      ]
    },
    {
      "cell_type": "code",
      "metadata": {
        "colab": {
          "base_uri": "https://localhost:8080/"
        },
        "id": "uAUais5f4OKl",
        "outputId": "498efa5a-7d84-40bb-cbfa-5b0777399438"
      },
      "source": [
        "# Split String\n",
        "s7.str.split()"
      ],
      "execution_count": 55,
      "outputs": [
        {
          "output_type": "execute_result",
          "data": {
            "text/plain": [
              "0             [animal]\n",
              "1               [bird]\n",
              "2    [Pandas, Library]\n",
              "dtype: object"
            ]
          },
          "metadata": {
            "tags": []
          },
          "execution_count": 55
        }
      ]
    },
    {
      "cell_type": "code",
      "metadata": {
        "colab": {
          "base_uri": "https://localhost:8080/"
        },
        "id": "87qRSndk4agi",
        "outputId": "32f085b7-611e-45db-bec7-71b5e2762619"
      },
      "source": [
        "s8.str.len()"
      ],
      "execution_count": 56,
      "outputs": [
        {
          "output_type": "execute_result",
          "data": {
            "text/plain": [
              "0     3\n",
              "1     3\n",
              "2    18\n",
              "dtype: int64"
            ]
          },
          "metadata": {
            "tags": []
          },
          "execution_count": 56
        }
      ]
    },
    {
      "cell_type": "code",
      "metadata": {
        "colab": {
          "base_uri": "https://localhost:8080/"
        },
        "id": "8J_GQhc44d90",
        "outputId": "59f7f742-e714-46b3-d845-ca72bc9d2dff"
      },
      "source": [
        "# Detect Unique Values\n",
        "\n",
        "s7.unique()"
      ],
      "execution_count": 57,
      "outputs": [
        {
          "output_type": "execute_result",
          "data": {
            "text/plain": [
              "array(['animal', 'bird', 'Pandas Library'], dtype=object)"
            ]
          },
          "metadata": {
            "tags": []
          },
          "execution_count": 57
        }
      ]
    },
    {
      "cell_type": "code",
      "metadata": {
        "colab": {
          "base_uri": "https://localhost:8080/"
        },
        "id": "vOCAiLt24vSU",
        "outputId": "61194b9f-d574-4e11-a79c-f71e01a1fc59"
      },
      "source": [
        "s8.unique()"
      ],
      "execution_count": 58,
      "outputs": [
        {
          "output_type": "execute_result",
          "data": {
            "text/plain": [
              "array(['cat', 'dog', 'Python Programming'], dtype=object)"
            ]
          },
          "metadata": {
            "tags": []
          },
          "execution_count": 58
        }
      ]
    },
    {
      "cell_type": "code",
      "metadata": {
        "colab": {
          "base_uri": "https://localhost:8080/"
        },
        "id": "7A_bnw9F4yRf",
        "outputId": "9b1f6776-c56a-416a-c7e6-4043f49e5482"
      },
      "source": [
        "# Repeat String\n",
        "s7 = np.array(['animal', 'bird', 'Pandas Library'])\n",
        "s7 = pd.Series(s7)\n",
        "s7"
      ],
      "execution_count": 60,
      "outputs": [
        {
          "output_type": "execute_result",
          "data": {
            "text/plain": [
              "0            animal\n",
              "1              bird\n",
              "2    Pandas Library\n",
              "dtype: object"
            ]
          },
          "metadata": {
            "tags": []
          },
          "execution_count": 60
        }
      ]
    },
    {
      "cell_type": "code",
      "metadata": {
        "colab": {
          "base_uri": "https://localhost:8080/"
        },
        "id": "AQtic7ra44A2",
        "outputId": "0e0d54cb-5d4f-4add-e0f3-ddf9525b15b7"
      },
      "source": [
        "repeat_list = [2, 3, 2]\n",
        "s7.str.repeat(repeat_list)"
      ],
      "execution_count": 61,
      "outputs": [
        {
          "output_type": "execute_result",
          "data": {
            "text/plain": [
              "0                    animalanimal\n",
              "1                    birdbirdbird\n",
              "2    Pandas LibraryPandas Library\n",
              "dtype: object"
            ]
          },
          "metadata": {
            "tags": []
          },
          "execution_count": 61
        }
      ]
    },
    {
      "cell_type": "code",
      "metadata": {
        "colab": {
          "base_uri": "https://localhost:8080/"
        },
        "id": "C5f00I4f53Z6",
        "outputId": "33b9b51e-9975-4aa7-ee6f-4265d150bbc3"
      },
      "source": [
        "s8 = np.array(['cat', 'dog', 'Python Programming'])\n",
        "s8 = pd.Series(s8)\n",
        "s8"
      ],
      "execution_count": 62,
      "outputs": [
        {
          "output_type": "execute_result",
          "data": {
            "text/plain": [
              "0                   cat\n",
              "1                   dog\n",
              "2    Python Programming\n",
              "dtype: object"
            ]
          },
          "metadata": {
            "tags": []
          },
          "execution_count": 62
        }
      ]
    },
    {
      "cell_type": "code",
      "metadata": {
        "colab": {
          "base_uri": "https://localhost:8080/"
        },
        "id": "M_c4WQow6DHr",
        "outputId": "0d7a65eb-bc26-4168-b893-583d57dc4b97"
      },
      "source": [
        "repeat_list = [1,2,3]\n",
        "s8.str.repeat(repeat_list)"
      ],
      "execution_count": 64,
      "outputs": [
        {
          "output_type": "execute_result",
          "data": {
            "text/plain": [
              "0                                                  cat\n",
              "1                                               dogdog\n",
              "2    Python ProgrammingPython ProgrammingPython Pro...\n",
              "dtype: object"
            ]
          },
          "metadata": {
            "tags": []
          },
          "execution_count": 64
        }
      ]
    },
    {
      "cell_type": "code",
      "metadata": {
        "id": "mLoIRkBc6Uiz"
      },
      "source": [
        ""
      ],
      "execution_count": null,
      "outputs": []
    }
  ]
}